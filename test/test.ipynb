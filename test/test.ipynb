{
 "cells": [
  {
   "cell_type": "code",
   "execution_count": 30,
   "metadata": {},
   "outputs": [],
   "source": [
    "import pandas as pd\n",
    "import matplotlib.pyplot as plt\n",
    "import json\n",
    "\n"
   ]
  },
  {
   "cell_type": "code",
   "execution_count": 32,
   "metadata": {},
   "outputs": [],
   "source": [
    "with open('result.json', 'r') as f:\n",
    "    data = json.load(f)\n",
    "\n",
    "\n",
    "\n",
    "    \n"
   ]
  },
  {
   "cell_type": "code",
   "execution_count": 36,
   "metadata": {},
   "outputs": [
    {
     "name": "stdout",
     "output_type": "stream",
     "text": [
      "counters\n",
      "rates\n",
      "firstCounterAt\n",
      "firstHistogramAt\n",
      "lastCounterAt\n",
      "lastHistogramAt\n",
      "firstMetricAt\n",
      "lastMetricAt\n",
      "period\n",
      "summaries\n",
      "histograms\n",
      "{'counters': {'vusers.created_by_name.0': 18, 'vusers.created': 18, 'http.requests': 18, 'http.codes.200': 15, 'http.responses': 15, 'http.downloaded_bytes': 10890, 'plugins.metrics-by-endpoint./Auth/Login.codes.200': 15, 'vusers.failed': 0, 'vusers.completed': 15}, 'rates': {'http.request_rate': 7}, 'http.request_rate': None, 'firstCounterAt': 1744039826826, 'firstHistogramAt': 1744039827464, 'lastCounterAt': 1744039829971, 'lastHistogramAt': 1744039829592, 'firstMetricAt': 1744039826826, 'lastMetricAt': 1744039829971, 'period': '1744039820000', 'summaries': {'http.response_time': {'min': 471, 'max': 629, 'count': 15, 'mean': 539.8, 'p50': 539.2, 'median': 539.2, 'p75': 572.6, 'p90': 584.2, 'p95': 596, 'p99': 596, 'p999': 596}, 'http.response_time.2xx': {'min': 471, 'max': 629, 'count': 15, 'mean': 539.8, 'p50': 539.2, 'median': 539.2, 'p75': 572.6, 'p90': 584.2, 'p95': 596, 'p99': 596, 'p999': 596}, 'plugins.metrics-by-endpoint.response_time./Auth/Login': {'min': 471, 'max': 629, 'count': 15, 'mean': 539.8, 'p50': 539.2, 'median': 539.2, 'p75': 572.6, 'p90': 584.2, 'p95': 596, 'p99': 596, 'p999': 596}, 'vusers.session_length': {'min': 478.3, 'max': 647.2, 'count': 15, 'mean': 565.4, 'p50': 572.6, 'median': 572.6, 'p75': 596, 'p90': 608, 'p95': 632.8, 'p99': 632.8, 'p999': 632.8}}, 'histograms': {'http.response_time': {'min': 471, 'max': 629, 'count': 15, 'mean': 539.8, 'p50': 539.2, 'median': 539.2, 'p75': 572.6, 'p90': 584.2, 'p95': 596, 'p99': 596, 'p999': 596}, 'http.response_time.2xx': {'min': 471, 'max': 629, 'count': 15, 'mean': 539.8, 'p50': 539.2, 'median': 539.2, 'p75': 572.6, 'p90': 584.2, 'p95': 596, 'p99': 596, 'p999': 596}, 'plugins.metrics-by-endpoint.response_time./Auth/Login': {'min': 471, 'max': 629, 'count': 15, 'mean': 539.8, 'p50': 539.2, 'median': 539.2, 'p75': 572.6, 'p90': 584.2, 'p95': 596, 'p99': 596, 'p999': 596}, 'vusers.session_length': {'min': 478.3, 'max': 647.2, 'count': 15, 'mean': 565.4, 'p50': 572.6, 'median': 572.6, 'p75': 596, 'p90': 608, 'p95': 632.8, 'p99': 632.8, 'p999': 632.8}}}\n",
      "{'counters': {'http.codes.200': 50, 'http.responses': 50, 'http.downloaded_bytes': 36300, 'plugins.metrics-by-endpoint./Auth/Login.codes.200': 50, 'vusers.failed': 0, 'vusers.completed': 50, 'vusers.created_by_name.0': 50, 'vusers.created': 50, 'http.requests': 50}, 'rates': {'http.request_rate': 5}, 'http.request_rate': None, 'firstCounterAt': 1744039830030, 'firstHistogramAt': 1744039830362, 'lastCounterAt': 1744039839953, 'lastHistogramAt': 1744039839637, 'firstMetricAt': 1744039830030, 'lastMetricAt': 1744039839953, 'period': '1744039830000', 'summaries': {'http.response_time': {'min': 473, 'max': 578, 'count': 50, 'mean': 525.3, 'p50': 528.6, 'median': 528.6, 'p75': 539.2, 'p90': 561.2, 'p95': 572.6, 'p99': 572.6, 'p999': 572.6}, 'http.response_time.2xx': {'min': 473, 'max': 578, 'count': 50, 'mean': 525.3, 'p50': 528.6, 'median': 528.6, 'p75': 539.2, 'p90': 561.2, 'p95': 572.6, 'p99': 572.6, 'p999': 572.6}, 'plugins.metrics-by-endpoint.response_time./Auth/Login': {'min': 473, 'max': 578, 'count': 50, 'mean': 525.3, 'p50': 528.6, 'median': 528.6, 'p75': 539.2, 'p90': 561.2, 'p95': 572.6, 'p99': 572.6, 'p999': 572.6}, 'vusers.session_length': {'min': 480.4, 'max': 584.5, 'count': 50, 'mean': 532.5, 'p50': 528.6, 'median': 528.6, 'p75': 550.1, 'p90': 572.6, 'p95': 572.6, 'p99': 584.2, 'p999': 584.2}}, 'histograms': {'http.response_time': {'min': 473, 'max': 578, 'count': 50, 'mean': 525.3, 'p50': 528.6, 'median': 528.6, 'p75': 539.2, 'p90': 561.2, 'p95': 572.6, 'p99': 572.6, 'p999': 572.6}, 'http.response_time.2xx': {'min': 473, 'max': 578, 'count': 50, 'mean': 525.3, 'p50': 528.6, 'median': 528.6, 'p75': 539.2, 'p90': 561.2, 'p95': 572.6, 'p99': 572.6, 'p999': 572.6}, 'plugins.metrics-by-endpoint.response_time./Auth/Login': {'min': 473, 'max': 578, 'count': 50, 'mean': 525.3, 'p50': 528.6, 'median': 528.6, 'p75': 539.2, 'p90': 561.2, 'p95': 572.6, 'p99': 572.6, 'p999': 572.6}, 'vusers.session_length': {'min': 480.4, 'max': 584.5, 'count': 50, 'mean': 532.5, 'p50': 528.6, 'median': 528.6, 'p75': 550.1, 'p90': 572.6, 'p95': 572.6, 'p99': 584.2, 'p999': 584.2}}}\n",
      "{'counters': {'http.codes.200': 50, 'http.responses': 50, 'http.downloaded_bytes': 36300, 'plugins.metrics-by-endpoint./Auth/Login.codes.200': 50, 'vusers.failed': 0, 'vusers.completed': 50, 'vusers.created_by_name.0': 50, 'vusers.created': 50, 'http.requests': 50}, 'rates': {'http.request_rate': 5}, 'http.request_rate': None, 'firstCounterAt': 1744039840011, 'firstHistogramAt': 1744039840392, 'lastCounterAt': 1744039849950, 'lastHistogramAt': 1744039849592, 'firstMetricAt': 1744039840011, 'lastMetricAt': 1744039849950, 'period': '1744039840000', 'summaries': {'http.response_time': {'min': 456, 'max': 579, 'count': 50, 'mean': 530, 'p50': 528.6, 'median': 528.6, 'p75': 550.1, 'p90': 561.2, 'p95': 572.6, 'p99': 572.6, 'p999': 572.6}, 'http.response_time.2xx': {'min': 456, 'max': 579, 'count': 50, 'mean': 530, 'p50': 528.6, 'median': 528.6, 'p75': 550.1, 'p90': 561.2, 'p95': 572.6, 'p99': 572.6, 'p999': 572.6}, 'plugins.metrics-by-endpoint.response_time./Auth/Login': {'min': 456, 'max': 579, 'count': 50, 'mean': 530, 'p50': 528.6, 'median': 528.6, 'p75': 550.1, 'p90': 561.2, 'p95': 572.6, 'p99': 572.6, 'p999': 572.6}, 'vusers.session_length': {'min': 461, 'max': 592.7, 'count': 50, 'mean': 535.8, 'p50': 539.2, 'median': 539.2, 'p75': 550.1, 'p90': 572.6, 'p95': 572.6, 'p99': 584.2, 'p999': 584.2}}, 'histograms': {'http.response_time': {'min': 456, 'max': 579, 'count': 50, 'mean': 530, 'p50': 528.6, 'median': 528.6, 'p75': 550.1, 'p90': 561.2, 'p95': 572.6, 'p99': 572.6, 'p999': 572.6}, 'http.response_time.2xx': {'min': 456, 'max': 579, 'count': 50, 'mean': 530, 'p50': 528.6, 'median': 528.6, 'p75': 550.1, 'p90': 561.2, 'p95': 572.6, 'p99': 572.6, 'p999': 572.6}, 'plugins.metrics-by-endpoint.response_time./Auth/Login': {'min': 456, 'max': 579, 'count': 50, 'mean': 530, 'p50': 528.6, 'median': 528.6, 'p75': 550.1, 'p90': 561.2, 'p95': 572.6, 'p99': 572.6, 'p999': 572.6}, 'vusers.session_length': {'min': 461, 'max': 592.7, 'count': 50, 'mean': 535.8, 'p50': 539.2, 'median': 539.2, 'p75': 550.1, 'p90': 572.6, 'p95': 572.6, 'p99': 584.2, 'p999': 584.2}}}\n",
      "{'counters': {'http.codes.200': 35, 'http.responses': 35, 'http.downloaded_bytes': 25410, 'plugins.metrics-by-endpoint./Auth/Login.codes.200': 35, 'vusers.failed': 0, 'vusers.completed': 35, 'vusers.created_by_name.0': 32, 'vusers.created': 32, 'http.requests': 32}, 'rates': {'http.request_rate': 5}, 'http.request_rate': None, 'firstCounterAt': 1744039850011, 'firstHistogramAt': 1744039850368, 'lastCounterAt': 1744039856593, 'lastHistogramAt': 1744039856593, 'firstMetricAt': 1744039850011, 'lastMetricAt': 1744039856593, 'period': '1744039850000', 'summaries': {'http.response_time': {'min': 487, 'max': 570, 'count': 35, 'mean': 527.5, 'p50': 528.6, 'median': 528.6, 'p75': 539.2, 'p90': 550.1, 'p95': 561.2, 'p99': 572.6, 'p999': 572.6}, 'http.response_time.2xx': {'min': 487, 'max': 570, 'count': 35, 'mean': 527.5, 'p50': 528.6, 'median': 528.6, 'p75': 539.2, 'p90': 550.1, 'p95': 561.2, 'p99': 572.6, 'p999': 572.6}, 'plugins.metrics-by-endpoint.response_time./Auth/Login': {'min': 487, 'max': 570, 'count': 35, 'mean': 527.5, 'p50': 528.6, 'median': 528.6, 'p75': 539.2, 'p90': 550.1, 'p95': 561.2, 'p99': 572.6, 'p999': 572.6}, 'vusers.session_length': {'min': 493.2, 'max': 574.8, 'count': 35, 'mean': 532.7, 'p50': 528.6, 'median': 528.6, 'p75': 550.1, 'p90': 550.1, 'p95': 561.2, 'p99': 572.6, 'p999': 572.6}}, 'histograms': {'http.response_time': {'min': 487, 'max': 570, 'count': 35, 'mean': 527.5, 'p50': 528.6, 'median': 528.6, 'p75': 539.2, 'p90': 550.1, 'p95': 561.2, 'p99': 572.6, 'p999': 572.6}, 'http.response_time.2xx': {'min': 487, 'max': 570, 'count': 35, 'mean': 527.5, 'p50': 528.6, 'median': 528.6, 'p75': 539.2, 'p90': 550.1, 'p95': 561.2, 'p99': 572.6, 'p999': 572.6}, 'plugins.metrics-by-endpoint.response_time./Auth/Login': {'min': 487, 'max': 570, 'count': 35, 'mean': 527.5, 'p50': 528.6, 'median': 528.6, 'p75': 539.2, 'p90': 550.1, 'p95': 561.2, 'p99': 572.6, 'p999': 572.6}, 'vusers.session_length': {'min': 493.2, 'max': 574.8, 'count': 35, 'mean': 532.7, 'p50': 528.6, 'median': 528.6, 'p75': 550.1, 'p90': 550.1, 'p95': 561.2, 'p99': 572.6, 'p999': 572.6}}}\n"
     ]
    }
   ],
   "source": [
    "for i in data:\n",
    "  for j in data[i]:\n",
    "    print(j)\n"
   ]
  },
  {
   "cell_type": "code",
   "execution_count": null,
   "metadata": {},
   "outputs": [],
   "source": []
  }
 ],
 "metadata": {
  "kernelspec": {
   "display_name": "Python 3",
   "language": "python",
   "name": "python3"
  },
  "language_info": {
   "codemirror_mode": {
    "name": "ipython",
    "version": 3
   },
   "file_extension": ".py",
   "mimetype": "text/x-python",
   "name": "python",
   "nbconvert_exporter": "python",
   "pygments_lexer": "ipython3",
   "version": "3.11.5"
  }
 },
 "nbformat": 4,
 "nbformat_minor": 2
}
